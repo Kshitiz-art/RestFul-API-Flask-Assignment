{
  "nbformat": 4,
  "nbformat_minor": 0,
  "metadata": {
    "colab": {
      "provenance": []
    },
    "kernelspec": {
      "name": "python3",
      "display_name": "Python 3"
    },
    "language_info": {
      "name": "python"
    }
  },
  "cells": [
    {
      "cell_type": "markdown",
      "source": [
        "QUE 1 What is a RESTful API\n",
        "\n",
        "---\n",
        "\n",
        "ANS   A RESTful API (Representational State Transfer) is a web service architecture that uses HTTP methods and follows principles like statelessness, uniform interfaces, and client-server separation. It allows clients to interact with resources (data) over the web using standard HTTP methods like GET, POST, PUT, DELETE."
      ],
      "metadata": {
        "id": "wZDAEB4Vy5Dq"
      }
    },
    {
      "cell_type": "markdown",
      "source": [
        "QUE 2 Explain the concept of API specification\n",
        "\n",
        "---\n",
        "\n",
        "ANS  API specification is a formal document that defines how an API behaves, its endpoints, available methods, request/response formats, authentication, and error handling. It's usually described using formats like OpenAPI (Swagger), ensuring consistency and clarity for developers."
      ],
      "metadata": {
        "id": "TV_vOhU2y5Aq"
      }
    },
    {
      "cell_type": "markdown",
      "source": [
        "QUE 3 What is Flask, and why is it popular for building APIs\n",
        "\n",
        "---\n",
        "ANS   Flask is a lightweight web framework for Python, designed to be simple and easy to use. It’s popular for building APIs because of its flexibility, minimalism, and ease of integration with other tools and libraries.\n"
      ],
      "metadata": {
        "id": "wJAKFPN7y49T"
      }
    },
    {
      "cell_type": "markdown",
      "source": [
        "QUE 4 What is routing in Flask\n",
        "\n",
        "---\n",
        "\n",
        "ANS   Routing in Flask refers to the process of mapping URLs to Python functions (views). When a user accesses a URL, Flask invokes the corresponding function, which handles the request and returns a response.\n"
      ],
      "metadata": {
        "id": "frh0GRdvy43W"
      }
    },
    {
      "cell_type": "markdown",
      "source": [
        "QUE 6 What are HTTP methods used in RESTful APIs\n",
        "\n",
        "---\n",
        "\n",
        "ANS       The main HTTP methods used in RESTful APIs are:\n",
        "\n",
        "\n",
        "          1  GET: Retrieve data from the server.\n",
        "          2  POST: Submit data to the server (e.g., create resources).\n",
        "          3  PUT: Update existing resources.\n",
        "          4  DELETE: Delete resources."
      ],
      "metadata": {
        "id": "0YMofu-3y4vC"
      }
    },
    {
      "cell_type": "markdown",
      "source": [
        "QUE 7  What is the purpose of the @app.route() decorator in Flask\n",
        "\n",
        "---\n",
        "\n",
        "ANS The @app.route() decorator in Flask is used to define the URL route that will trigger a specific function when accessed. It connects a URL path to a view function."
      ],
      "metadata": {
        "id": "Sw8WWexjy4ro"
      }
    },
    {
      "cell_type": "markdown",
      "source": [
        "QUE 8 What is the difference between GET and POST HTTP methods\n",
        "\n",
        "---\n",
        "\n",
        "ANS GET is used to retrieve data from the server and should not modify the server's state, while POST is used to send data to the server, typically to create or update resources."
      ],
      "metadata": {
        "id": "SoXfd7R9y4ot"
      }
    },
    {
      "cell_type": "markdown",
      "source": [
        "QUE 9 How do you handle errors in Flask APIs\n",
        "\n",
        "---\n",
        "\n",
        "ANS    You can handle errors in Flask APIs using @app.errorhandler() or custom error handling within route functions by raising exceptions and returning appropriate HTTP status codes and messages."
      ],
      "metadata": {
        "id": "bGG09cufy4lF"
      }
    },
    {
      "cell_type": "markdown",
      "source": [
        "QUE 10 How do you connect Flask to a SQL database\n",
        "\n",
        "---\n",
        "\n",
        "ANS    You can connect Flask to a SQL database using an ORM (like SQLAlchemy) or raw SQL queries. Flask can be configured with a database URL, and SQLAlchemy can be used to interact with the database."
      ],
      "metadata": {
        "id": "WesyH00ny4hn"
      }
    },
    {
      "cell_type": "markdown",
      "source": [
        "QUE 11 What is the role of Flask-SQLAlchemy\n",
        "\n",
        "---\n",
        "\n",
        "ANS Flask-SQLAlchemy is an extension for Flask that adds support for SQLAlchemy, an ORM (Object-Relational Mapping) tool, simplifying database interaction in Flask applications."
      ],
      "metadata": {
        "id": "V_RUa9ODy4fE"
      }
    },
    {
      "cell_type": "markdown",
      "source": [
        "QUE 12  What are Flask blueprints, and how are they useful\n",
        "\n",
        "---\n",
        "\n",
        "ANS   Flask blueprints are a way to organize your Flask application into modular components (e.g., separate user authentication or blog modules), making it easier to scale and maintain."
      ],
      "metadata": {
        "id": "x22y3PgKy4Yw"
      }
    },
    {
      "cell_type": "markdown",
      "source": [
        "QUE 13  What is the purpose of Flask's request object\n",
        "\n",
        "---\n",
        "\n",
        "ANS    The request object in Flask is used to access data sent with the HTTP request, such as form data, JSON payloads, query parameters, and headers."
      ],
      "metadata": {
        "id": "mCMoqETsy4V3"
      }
    },
    {
      "cell_type": "markdown",
      "source": [
        "QUE 14 How do you create a RESTful API endpoint using Flask\n",
        "\n",
        "---\n",
        "\n"
      ],
      "metadata": {
        "id": "OD2YzgFny4TY"
      }
    },
    {
      "cell_type": "code",
      "source": [
        "from flask import Flask, jsonify\n",
        "\n",
        "app = Flask(__name__)\n",
        "\n",
        "@app.route('/api/data', methods=['GET'])\n",
        "def get_data():\n",
        "    data = {'key': 'value'}\n",
        "    return jsonify(data)\n",
        "\n",
        "if __name__ == '__main__':\n",
        "    app.run()"
      ],
      "metadata": {
        "id": "sEYmhAwN6u6s"
      },
      "execution_count": null,
      "outputs": []
    },
    {
      "cell_type": "markdown",
      "source": [
        "QUE 15 What is the purpose of Flask's jsonify() function\n",
        "\n",
        "---\n",
        "ANS The jsonify() function is used to convert Python dictionaries or lists into a JSON response, making it easier to return data in a standard JSON format from your API.\n",
        "\n"
      ],
      "metadata": {
        "id": "ChUfggxhy4Ph"
      }
    },
    {
      "cell_type": "markdown",
      "source": [
        "QUE 16  Explain Flask’s url_for() function\n",
        "\n",
        "\n",
        "ANS The url_for() function generates a URL for a given endpoint (view function) and can be used to dynamically build URLs in templates or redirect users.\n",
        "\n",
        "---\n",
        "\n"
      ],
      "metadata": {
        "id": "e5ULP6vsy4Lf"
      }
    },
    {
      "cell_type": "markdown",
      "source": [
        "QUE 17  How does Flask handle static files (CSS, JavaScript, etc.)\n",
        "\n",
        "---\n",
        "\n",
        "ANS   Flask serves static files (CSS, JavaScript, images, etc.) from the /static directory by default. You can link to these files in templates using the url_for('static', filename='...') function."
      ],
      "metadata": {
        "id": "12BmP2Mxy4HZ"
      }
    },
    {
      "cell_type": "markdown",
      "source": [
        "QUE 18 What is an API specification, and how does it help in building a Flask API\n",
        "\n",
        "---\n",
        "\n",
        "ANS   An API specification provides detailed documentation of the API's functionality, endpoints, parameters, responses, etc. It ensures consistent design and helps developers build and consume the API efficiently.\n",
        "\n",
        "\n"
      ],
      "metadata": {
        "id": "KPcPoa_8y4DI"
      }
    },
    {
      "cell_type": "markdown",
      "source": [
        "QUE 19  What are HTTP status codes, and why are they important in a Flask API\n",
        "\n",
        "---\n",
        "\n",
        "ANS   HTTP status codes are three-digit numbers that represent the result of an HTTP request (e.g., 200 for success, 404 for not found, 500 for server errors). They are important in Flask APIs to indicate the outcome of API requests."
      ],
      "metadata": {
        "id": "2DYsbKLDy4AU"
      }
    },
    {
      "cell_type": "markdown",
      "source": [
        "QUE 20   How do you handle POST requests in Flask\n",
        "\n",
        "---\n",
        "\n"
      ],
      "metadata": {
        "id": "LcrJajAuy39k"
      }
    },
    {
      "cell_type": "code",
      "source": [
        "from flask import Flask, request, jsonify\n",
        "\n",
        "app = Flask(__name__)\n",
        "\n",
        "@app.route('/api/data', methods=['POST'])\n",
        "def create_data():\n",
        "    data = request.json  # Parse JSON data from the request body\n",
        "    return jsonify(data), 201  # Return data with status 201 (created)\n",
        "\n",
        "if __name__ == '__main__':\n",
        "    app.run()\n"
      ],
      "metadata": {
        "id": "egskNPzU9Yyb"
      },
      "execution_count": null,
      "outputs": []
    },
    {
      "cell_type": "markdown",
      "source": [
        "QUE 21  How would you secure a Flask API\n",
        "\n",
        "---\n",
        "\n"
      ],
      "metadata": {
        "id": "QRIF2tUfy36f"
      }
    },
    {
      "cell_type": "markdown",
      "source": [
        "QUE 22  What is the significance of the Flask-RESTful extension\n",
        "\n",
        "---\n",
        "ANS To secure a Flask API, you can use methods like authentication (e.g., JWT tokens), HTTPS (for encrypted communication), input validation, and rate limiting.\n",
        "\n"
      ],
      "metadata": {
        "id": "RGd-TA0ly3zg"
      }
    },
    {
      "cell_type": "markdown",
      "source": [
        "QUE 23 What is the role of Flask’s session object?\n",
        "\n",
        "---\n",
        "\n",
        "ANS     Flask’s session object is used to store data between requests for a user, typically for user authentication or tracking user-specific information. It’s stored in a secure cookie by default."
      ],
      "metadata": {
        "id": "l74wqCyPzY2w"
      }
    },
    {
      "cell_type": "markdown",
      "source": [
        "**PRATICAL QUESTION**\n",
        "\n",
        "---\n",
        "\n"
      ],
      "metadata": {
        "id": "I15ZwLzrrDly"
      }
    },
    {
      "cell_type": "markdown",
      "source": [
        "QUE 1 How do you create a basic Flask application"
      ],
      "metadata": {
        "id": "Q2uvotHJrI5G"
      }
    },
    {
      "cell_type": "code",
      "source": [
        "from flask import Flask\n",
        "\n",
        "app = Flask(__name__)  # Create a Flask instance\n",
        "\n",
        "@app.route('/')  # Define the home route\n",
        "def home():\n",
        "    return \"Hello, Flask!\"\n",
        "\n",
        "if __name__ == '__main__':\n",
        "    app.run(debug=True)  # Run the app in debug mode\n"
      ],
      "metadata": {
        "colab": {
          "base_uri": "https://localhost:8080/"
        },
        "id": "VbaN0o2mD3Rj",
        "outputId": "46eddf5b-7ba9-47be-c48d-1e9622ce96be"
      },
      "execution_count": null,
      "outputs": [
        {
          "output_type": "stream",
          "name": "stdout",
          "text": [
            " * Serving Flask app '__main__'\n",
            " * Debug mode: on\n"
          ]
        },
        {
          "output_type": "stream",
          "name": "stderr",
          "text": [
            "INFO:werkzeug:\u001b[31m\u001b[1mWARNING: This is a development server. Do not use it in a production deployment. Use a production WSGI server instead.\u001b[0m\n",
            " * Running on http://127.0.0.1:5000\n",
            "INFO:werkzeug:\u001b[33mPress CTRL+C to quit\u001b[0m\n",
            "INFO:werkzeug: * Restarting with stat\n"
          ]
        }
      ]
    },
    {
      "cell_type": "markdown",
      "source": [
        "QUE 2 Explain the concept of API specification?"
      ],
      "metadata": {
        "id": "GRzmVCrUtqi9"
      }
    },
    {
      "cell_type": "markdown",
      "source": [
        "An API specification is a document that describes how an API should behave. It includes:\n",
        "\n",
        "Endpoints: URL paths where API functions are accessible\n",
        "\n",
        "Methods: HTTP methods (GET, POST, PUT, DELETE)\n",
        "\n",
        "Request Parameters: Query parameters, path parameters, request bodies\n",
        "\n",
        "Response Format: JSON, XML, or other structured data\n",
        "\n",
        "Authentication & Authorization: Tokens, API keys, OAuth, etc."
      ],
      "metadata": {
        "id": "umWr9CDauKfE"
      }
    },
    {
      "cell_type": "markdown",
      "source": [
        "QUE 3 How do you define different routes with different HTTP methods in Flask"
      ],
      "metadata": {
        "id": "g1FavSIdrLN0"
      }
    },
    {
      "cell_type": "code",
      "source": [
        "from flask import Flask, request\n",
        "\n",
        "app = Flask(__name__)  # Use __name, not _name\n",
        "\n",
        "@app.route('/users', methods=['GET', 'POST'])\n",
        "def users():\n",
        "    if request.method == 'GET':\n",
        "        return \"Fetching users\"\n",
        "    elif request.method == 'POST':\n",
        "        return \"Creating a new user\"\n",
        "\n",
        "if __name__ == '__main__':  # Use __name_ and '_main_'\n",
        "    app.run(debug=True)"
      ],
      "metadata": {
        "colab": {
          "base_uri": "https://localhost:8080/"
        },
        "id": "kRyX3jDuCMM1",
        "outputId": "c0db6757-63f6-42bc-8ab6-55b516cb3cf1"
      },
      "execution_count": null,
      "outputs": [
        {
          "output_type": "stream",
          "name": "stdout",
          "text": [
            " * Serving Flask app '__main__'\n",
            " * Debug mode: on\n"
          ]
        },
        {
          "output_type": "stream",
          "name": "stderr",
          "text": [
            "INFO:werkzeug:\u001b[31m\u001b[1mWARNING: This is a development server. Do not use it in a production deployment. Use a production WSGI server instead.\u001b[0m\n",
            " * Running on http://127.0.0.1:5000\n",
            "INFO:werkzeug:\u001b[33mPress CTRL+C to quit\u001b[0m\n",
            "INFO:werkzeug: * Restarting with stat\n"
          ]
        }
      ]
    },
    {
      "cell_type": "markdown",
      "source": [
        "QUE 4 How do you render HTML templates in Flask"
      ],
      "metadata": {
        "id": "Ss4aYN4YrLgB"
      }
    },
    {
      "cell_type": "code",
      "source": [
        "from flask import Flask, render_template\n",
        "\n",
        "app = Flask(__name__)\n",
        "\n",
        "@app.route('/')\n",
        "def home():\n",
        "    return render_template('index.html')\n",
        "\n",
        "if __name__ == '__main__':\n",
        "    app.run(debug=True)\n"
      ],
      "metadata": {
        "colab": {
          "base_uri": "https://localhost:8080/"
        },
        "id": "Yp-JrYj7unUj",
        "outputId": "10e249fc-22bc-436d-b207-0545770bc1b6"
      },
      "execution_count": null,
      "outputs": [
        {
          "output_type": "stream",
          "name": "stdout",
          "text": [
            " * Serving Flask app '__main__'\n",
            " * Debug mode: on\n"
          ]
        },
        {
          "output_type": "stream",
          "name": "stderr",
          "text": [
            "INFO:werkzeug:\u001b[31m\u001b[1mWARNING: This is a development server. Do not use it in a production deployment. Use a production WSGI server instead.\u001b[0m\n",
            " * Running on http://127.0.0.1:5000\n",
            "INFO:werkzeug:\u001b[33mPress CTRL+C to quit\u001b[0m\n",
            "INFO:werkzeug: * Restarting with stat\n"
          ]
        }
      ]
    },
    {
      "cell_type": "markdown",
      "source": [
        "QUE 5 How can you generate URLs for routes in Flask using url_for"
      ],
      "metadata": {
        "id": "vVFznrPrrMAn"
      }
    },
    {
      "cell_type": "code",
      "source": [
        "from flask import Flask, url_for\n",
        "\n",
        "app = Flask(__name__)\n",
        "\n",
        "@app.route('/profile/<username>')\n",
        "def profile(username):\n",
        "    return f\"Profile of {username}\"\n",
        "\n",
        "with app.test_request_context():\n",
        "    print(url_for('profile', username='kshitiz'))  # Output: /profile/kshitiz\n"
      ],
      "metadata": {
        "colab": {
          "base_uri": "https://localhost:8080/"
        },
        "id": "0VFZt4E8w1sy",
        "outputId": "a3a98216-5d9a-46c2-ee6f-3c8c8cd7defb"
      },
      "execution_count": null,
      "outputs": [
        {
          "output_type": "stream",
          "name": "stdout",
          "text": [
            "/profile/kshitiz\n"
          ]
        }
      ]
    },
    {
      "cell_type": "markdown",
      "source": [
        "QUE 6 How do you handle forms in Flask"
      ],
      "metadata": {
        "id": "fB6u3dcQrMSC"
      }
    },
    {
      "cell_type": "code",
      "source": [
        "from flask import Flask, request\n",
        "\n",
        "app = Flask(__name__)\n",
        "\n",
        "@app.route('/submit', methods=['POST'])\n",
        "def submit():\n",
        "    name = request.form['name']\n",
        "    return f\"Hello, {name}!\"\n",
        "\n"
      ],
      "metadata": {
        "id": "_P7v4RoGw4gb"
      },
      "execution_count": null,
      "outputs": []
    },
    {
      "cell_type": "markdown",
      "source": [
        "QUE 7 How can you validate form data in Flask"
      ],
      "metadata": {
        "id": "oLB7FMp-rMp5"
      }
    },
    {
      "cell_type": "code",
      "source": [
        "from flask_wtf import FlaskForm\n",
        "from wtforms import StringField\n",
        "from wtforms.validators import DataRequired\n",
        "\n",
        "class MyForm(FlaskForm):\n",
        "    name = StringField('Name', validators=[DataRequired()])"
      ],
      "metadata": {
        "colab": {
          "base_uri": "https://localhost:8080/",
          "height": 400
        },
        "id": "utNut66YxKPM",
        "outputId": "b30a0501-bfca-4b31-a577-39e67649b097"
      },
      "execution_count": null,
      "outputs": [
        {
          "output_type": "error",
          "ename": "ModuleNotFoundError",
          "evalue": "No module named 'flask_wtf'",
          "traceback": [
            "\u001b[0;31m---------------------------------------------------------------------------\u001b[0m",
            "\u001b[0;31mModuleNotFoundError\u001b[0m                       Traceback (most recent call last)",
            "\u001b[0;32m<ipython-input-9-68d6ab376e24>\u001b[0m in \u001b[0;36m<cell line: 0>\u001b[0;34m()\u001b[0m\n\u001b[0;32m----> 1\u001b[0;31m \u001b[0;32mfrom\u001b[0m \u001b[0mflask_wtf\u001b[0m \u001b[0;32mimport\u001b[0m \u001b[0mFlaskForm\u001b[0m\u001b[0;34m\u001b[0m\u001b[0;34m\u001b[0m\u001b[0m\n\u001b[0m\u001b[1;32m      2\u001b[0m \u001b[0;32mfrom\u001b[0m \u001b[0mwtforms\u001b[0m \u001b[0;32mimport\u001b[0m \u001b[0mStringField\u001b[0m\u001b[0;34m\u001b[0m\u001b[0;34m\u001b[0m\u001b[0m\n\u001b[1;32m      3\u001b[0m \u001b[0;32mfrom\u001b[0m \u001b[0mwtforms\u001b[0m\u001b[0;34m.\u001b[0m\u001b[0mvalidators\u001b[0m \u001b[0;32mimport\u001b[0m \u001b[0mDataRequired\u001b[0m\u001b[0;34m\u001b[0m\u001b[0;34m\u001b[0m\u001b[0m\n\u001b[1;32m      4\u001b[0m \u001b[0;34m\u001b[0m\u001b[0m\n\u001b[1;32m      5\u001b[0m \u001b[0;32mclass\u001b[0m \u001b[0mMyForm\u001b[0m\u001b[0;34m(\u001b[0m\u001b[0mFlaskForm\u001b[0m\u001b[0;34m)\u001b[0m\u001b[0;34m:\u001b[0m\u001b[0;34m\u001b[0m\u001b[0;34m\u001b[0m\u001b[0m\n",
            "\u001b[0;31mModuleNotFoundError\u001b[0m: No module named 'flask_wtf'",
            "",
            "\u001b[0;31m---------------------------------------------------------------------------\u001b[0;32m\nNOTE: If your import is failing due to a missing package, you can\nmanually install dependencies using either !pip or !apt.\n\nTo view examples of installing some common dependencies, click the\n\"Open Examples\" button below.\n\u001b[0;31m---------------------------------------------------------------------------\u001b[0m\n"
          ],
          "errorDetails": {
            "actions": [
              {
                "action": "open_url",
                "actionText": "Open Examples",
                "url": "/notebooks/snippets/importing_libraries.ipynb"
              }
            ]
          }
        }
      ]
    },
    {
      "cell_type": "markdown",
      "source": [
        "QUE 8 How do you manage sessions in Flask"
      ],
      "metadata": {
        "id": "lwCJAP1urM8E"
      }
    },
    {
      "cell_type": "code",
      "source": [
        "from flask import Flask, session\n",
        "\n",
        "app = Flask(__name__)\n",
        "app.secret_key = 'secret123'\n",
        "\n",
        "@app.route('/set')\n",
        "def set_session():\n",
        "    session['user'] = 'Kshitiz'\n",
        "    return \"Session Set!\"\n",
        "\n",
        "@app.route('/get')\n",
        "def get_session():\n",
        "    return session.get('user', 'No session found')\n"
      ],
      "metadata": {
        "id": "POCR6U6o29mg"
      },
      "execution_count": null,
      "outputs": []
    },
    {
      "cell_type": "markdown",
      "source": [
        "QUE 9  How do you redirect to a different route in Flask"
      ],
      "metadata": {
        "id": "k48kL4XurNN7"
      }
    },
    {
      "cell_type": "code",
      "source": [
        "from flask import Flask, redirect, url_for\n",
        "\n",
        "app = Flask(__name__)\n",
        "\n",
        "@app.route('/old')\n",
        "def old():\n",
        "    return redirect(url_for('new'))\n",
        "\n",
        "@app.route('/new')\n",
        "def new():\n",
        "    return \"New Page!\"\n"
      ],
      "metadata": {
        "id": "BH6bSNUM3DIq"
      },
      "execution_count": null,
      "outputs": []
    },
    {
      "cell_type": "markdown",
      "source": [
        "QUE 10 How do you handle errors in Flask (e.g., 404)?"
      ],
      "metadata": {
        "id": "kFynGrLwrNe-"
      }
    },
    {
      "cell_type": "code",
      "source": [
        "from flask import Flask, render_template\n",
        "\n",
        "app = Flask(__name__)\n",
        "\n",
        "@app.errorhandler(404)\n",
        "def not_found(error):\n",
        "    return \"Page Not Found\", 404\n"
      ],
      "metadata": {
        "id": "Cnu-HW_W3Kgo"
      },
      "execution_count": null,
      "outputs": []
    },
    {
      "cell_type": "markdown",
      "source": [
        "QUE 11 How do you structure a Flask app using Blueprints?"
      ],
      "metadata": {
        "id": "2v7pCkt7rNy8"
      }
    },
    {
      "cell_type": "code",
      "source": [
        "from flask import Blueprint\n",
        "\n",
        "bp = Blueprint('main', __name__)\n",
        "\n",
        "@bp.route('/')\n",
        "def home():\n",
        "    return \"Welcome to Blueprint!\"\n",
        "\n",
        "# Register Blueprint\n",
        "from flask import Flask\n",
        "\n",
        "app = Flask(__name__)\n",
        "app.register_blueprint(bp)\n"
      ],
      "metadata": {
        "id": "ycBD2n6K3Mq9"
      },
      "execution_count": null,
      "outputs": []
    },
    {
      "cell_type": "markdown",
      "source": [
        "QUE 12  How do you define a custom Jinja filter in Flask"
      ],
      "metadata": {
        "id": "0N19mBCLrOA_"
      }
    },
    {
      "cell_type": "code",
      "source": [
        "from flask import Flask\n",
        "\n",
        "app = Flask(__name__)\n",
        "\n",
        "@app.template_filter('reverse')\n",
        "def reverse_filter(s):\n",
        "    return s[::-1]\n"
      ],
      "metadata": {
        "id": "ESEveBzs3Szz"
      },
      "execution_count": null,
      "outputs": []
    },
    {
      "cell_type": "markdown",
      "source": [
        "QUE 13 How can you redirect with query parameters in Flask?"
      ],
      "metadata": {
        "id": "oU-NIGqnrONe"
      }
    },
    {
      "cell_type": "code",
      "source": [
        "from flask import Flask, redirect, url_for\n",
        "\n",
        "app = Flask(__name__)\n",
        "\n",
        "@app.route('/old')\n",
        "def old():\n",
        "    return redirect(url_for('new', msg=\"Hello\"))\n",
        "\n",
        "@app.route('/new')\n",
        "def new():\n",
        "    return \"Redirected!\"\n"
      ],
      "metadata": {
        "id": "L-x-srqC3Xyv"
      },
      "execution_count": null,
      "outputs": []
    },
    {
      "cell_type": "markdown",
      "source": [
        "QUE 14 How do you return JSON responses in Flask?"
      ],
      "metadata": {
        "id": "70_Yanc3rOaL"
      }
    },
    {
      "cell_type": "code",
      "source": [
        "from flask import Flask, jsonify\n",
        "\n",
        "app = Flask(__name__)\n",
        "\n",
        "@app.route('/json')\n",
        "def json_response():\n",
        "    return jsonify({\"message\": \"Hello, Flask!\"})\n"
      ],
      "metadata": {
        "id": "s79HMzqS3ZNd"
      },
      "execution_count": null,
      "outputs": []
    },
    {
      "cell_type": "markdown",
      "source": [
        "QUE 15 How do you capture URL parameters in Flask?"
      ],
      "metadata": {
        "id": "mBwhgvegrOme"
      }
    },
    {
      "cell_type": "code",
      "source": [
        "from flask import Flask\n",
        "\n",
        "app = Flask(__name__)\n",
        "\n",
        "@app.route('/user/<username>')\n",
        "def user(username):\n",
        "    return f\"Hello, {username}!\"\n"
      ],
      "metadata": {
        "id": "nb0U7lN53dZV"
      },
      "execution_count": null,
      "outputs": []
    }
  ]
}